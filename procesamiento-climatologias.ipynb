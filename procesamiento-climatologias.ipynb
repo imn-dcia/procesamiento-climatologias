{
 "cells": [
  {
   "cell_type": "markdown",
   "metadata": {},
   "source": [
    "# Procesamiento de climatologías"
   ]
  },
  {
   "cell_type": "markdown",
   "metadata": {},
   "source": [
    "Este _notebook_ contiene programas en Python para el procesamiento de climatologías. Una climatología se define como un conjunto de medidas estadísticas que resumen series temporales de variables climáticas como precipitación, temperatura, radiación solar y velocidad del viento, entre otras."
   ]
  },
  {
   "cell_type": "markdown",
   "metadata": {},
   "source": [
    "**Bibliotecas**"
   ]
  },
  {
   "cell_type": "code",
   "execution_count": null,
   "metadata": {},
   "outputs": [],
   "source": [
    "import os\n",
    "\n",
    "import rasterio\n",
    "\n",
    "from shapely.geometry import Point\n",
    "\n",
    "import pandas as pd\n",
    "import geopandas as gpd"
   ]
  },
  {
   "cell_type": "markdown",
   "metadata": {},
   "source": [
    "## Entrada"
   ]
  },
  {
   "cell_type": "code",
   "execution_count": null,
   "metadata": {},
   "outputs": [],
   "source": [
    "# Directorio de datos de entrada\n",
    "INPUT_DATA_DIR = \"C:/Users/mfvargas/Desktop/procesamiento-climatologias/datos/chirps\""
   ]
  },
  {
   "cell_type": "markdown",
   "metadata": {},
   "source": [
    "## Procesamiento"
   ]
  },
  {
   "cell_type": "code",
   "execution_count": null,
   "metadata": {},
   "outputs": [],
   "source": [
    "# Recorrido de los archivos del directorio de entrada\n",
    "for file in os.listdir(INPUT_DATA_DIR):\n",
    "    # DataFrame\n",
    "    centros_gdf = gpd.GeoDataFrame(columns=['geometry', 'x', 'y'], crs={\"init\": \"epsg:4326\"})\n",
    "    \n",
    "    dataset = rasterio.open(INPUT_DATA_DIR + \"/\" + file)\n",
    "    print(\"Archivo:\", file, \"Ancho:\", dataset.width, \"Largo:\", dataset.height)\n",
    "    \n",
    "    # Recuperación de los valores de la banda 1 en un arreglo\n",
    "    band = dataset.read(1)\n",
    "    \n",
    "    # Recorrido de las filas y columnas de la banda\n",
    "    i = 0\n",
    "    t = 0\n",
    "    for row in band:\n",
    "        j = 0\n",
    "        for value in row:\n",
    "            coordinates = dataset.transform * (j, i)\n",
    "            x = coordinates[0]\n",
    "            y = coordinates[1]\n",
    "            point = Point(coordinates)\n",
    "            print(t, i, j, x, y, point, value)\n",
    "            centros_gdf.loc[t] = [point] + [x] + [y]\n",
    "            j += 1\n",
    "            t += 1\n",
    "        i += 1"
   ]
  },
  {
   "cell_type": "code",
   "execution_count": null,
   "metadata": {},
   "outputs": [],
   "source": [
    "centros_gdf"
   ]
  },
  {
   "cell_type": "code",
   "execution_count": null,
   "metadata": {},
   "outputs": [],
   "source": [
    "centros_gdf.to_file(INPUT_DATA_DIR + \"/\" + \"centros.shp\")"
   ]
  }
 ],
 "metadata": {
  "kernelspec": {
   "display_name": "Python 3",
   "language": "python",
   "name": "python3"
  },
  "language_info": {
   "codemirror_mode": {
    "name": "ipython",
    "version": 3
   },
   "file_extension": ".py",
   "mimetype": "text/x-python",
   "name": "python",
   "nbconvert_exporter": "python",
   "pygments_lexer": "ipython3",
   "version": "3.7.3"
  }
 },
 "nbformat": 4,
 "nbformat_minor": 2
}
