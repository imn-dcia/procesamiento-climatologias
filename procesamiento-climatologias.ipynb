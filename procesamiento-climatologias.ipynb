{
 "cells": [
  {
   "cell_type": "markdown",
   "metadata": {},
   "source": [
    "# Procesamiento de climatologías"
   ]
  },
  {
   "cell_type": "markdown",
   "metadata": {},
   "source": [
    "Este _notebook_ contiene programas en Python para el procesamiento de climatologías. Una climatología se define como un conjunto de medidas estadísticas que resumen series temporales de variables climáticas como precipitación, temperatura, radiación solar y velocidad del viento, entre otras."
   ]
  },
  {
   "cell_type": "markdown",
   "metadata": {},
   "source": [
    "**Bibliotecas**"
   ]
  },
  {
   "cell_type": "code",
   "execution_count": 1,
   "metadata": {},
   "outputs": [],
   "source": [
    "import os\n",
    "\n",
    "import rasterio\n",
    "\n",
    "from shapely.geometry import Point\n",
    "\n",
    "import pandas as pd\n",
    "import geopandas as gpd"
   ]
  },
  {
   "cell_type": "markdown",
   "metadata": {},
   "source": [
    "## Entrada"
   ]
  },
  {
   "cell_type": "code",
   "execution_count": 2,
   "metadata": {},
   "outputs": [],
   "source": [
    "# Directorio de datos de entrada\n",
    "# INPUT_DATA_DIR = \"C:/Users/mfvargas/raster/raster_recortados/\"\n",
    "INPUT_DATA_DIR = \"/home/mfvargas/raster/raster_recortados/\"\n",
    "\n",
    "# Directorio de datos de salida\n",
    "# OUTPUT_DATA_DIR = \"C:/Users/mfvargas/raster/raster_recortados/\"\n",
    "OUTPUT_DATA_DIR = \"/home/mfvargas/raster/salida/\"\n",
    "\n",
    "# Shapefile de salida\n",
    "OUTPUT_SHAPEFILE = \"CHELSA_1981.shp\"\n",
    "\n",
    "# Archivo CSV de salida\n",
    "OUTPUT_CSV = \"CHELSA_1981.csv\"\n",
    "\n",
    "# Valor de NO DATA\n",
    "NO_DATA_VALUE = 65535"
   ]
  },
  {
   "cell_type": "markdown",
   "metadata": {},
   "source": [
    "## Procesamiento"
   ]
  },
  {
   "cell_type": "code",
   "execution_count": 3,
   "metadata": {},
   "outputs": [
    {
     "name": "stderr",
     "output_type": "stream",
     "text": [
      "/home/mfvargas/anaconda3/envs/imn3/lib/python3.8/site-packages/pyproj/crs/crs.py:53: FutureWarning: '+init=<authority>:<code>' syntax is deprecated. '<authority>:<code>' is the preferred initialization method. When making the change, be mindful of axis order changes: https://pyproj4.github.io/pyproj/stable/gotchas.html#axis-order-changes-in-proj-6\n",
      "  return _prepare_from_string(\" \".join(pjargs))\n"
     ]
    },
    {
     "name": "stdout",
     "output_type": "stream",
     "text": [
      "Año: 1981 Mes: 01\n",
      "Archivo: CHELSA_prec_1981_01_V1.2.1_recortado.tiff Ancho: 411 Largo: 382\n",
      "Año: 1981 Mes: 04\n",
      "Archivo: CHELSA_prec_1981_04_V1.2.1_recortado.tiff Ancho: 411 Largo: 382\n",
      "Año: 1981 Mes: 11\n",
      "Archivo: CHELSA_prec_1981_11_V1.2.1_recortado.tiff Ancho: 411 Largo: 382\n",
      "Año: 1981 Mes: 09\n",
      "Archivo: CHELSA_prec_1981_09_V1.2.1_recortado.tiff Ancho: 411 Largo: 382\n",
      "Año: 1981 Mes: 05\n",
      "Archivo: CHELSA_prec_1981_05_V1.2.1_recortado.tiff Ancho: 411 Largo: 382\n",
      "Año: 1981 Mes: 02\n",
      "Archivo: CHELSA_prec_1981_02_V1.2.1_recortado.tiff Ancho: 411 Largo: 382\n",
      "Año: 1981 Mes: 03\n",
      "Archivo: CHELSA_prec_1981_03_V1.2.1_recortado.tiff Ancho: 411 Largo: 382\n",
      "Año: 1981 Mes: 07\n",
      "Archivo: CHELSA_prec_1981_07_V1.2.1_recortado.tiff Ancho: 411 Largo: 382\n",
      "Año: 1981 Mes: 10\n",
      "Archivo: CHELSA_prec_1981_10_V1.2.1_recortado.tiff Ancho: 411 Largo: 382\n",
      "Año: 1981 Mes: 08\n",
      "Archivo: CHELSA_prec_1981_08_V1.2.1_recortado.tiff Ancho: 411 Largo: 382\n",
      "Año: 1981 Mes: 06\n",
      "Archivo: CHELSA_prec_1981_06_V1.2.1_recortado.tiff Ancho: 411 Largo: 382\n",
      "Año: 1981 Mes: 12\n",
      "Archivo: CHELSA_prec_1981_12_V1.2.1_recortado.tiff Ancho: 411 Largo: 382\n"
     ]
    }
   ],
   "source": [
    "# DataFrame\n",
    "centros_gdf = gpd.GeoDataFrame(columns=['geometry', 'x', 'y'], crs={\"init\": \"epsg:4326\"})\n",
    "\n",
    "# Contador de archivos\n",
    "f = 0\n",
    "\n",
    "# Recorrido de los archivos del directorio de entrada\n",
    "for file in os.listdir(INPUT_DATA_DIR):\n",
    "    anio = file[12:16]\n",
    "    mes = file[17:19]\n",
    "    \n",
    "    # Condiciones\n",
    "    #if mes != '12':\n",
    "    #    continue\n",
    "    \n",
    "    if anio != '1981':\n",
    "        continue\n",
    "    \n",
    "    print(\"Año:\", anio, \"Mes:\", mes)\n",
    "    centros_gdf['c_' + anio + '_' + mes] = 65535\n",
    "    \n",
    "    dataset = rasterio.open(INPUT_DATA_DIR + \"/\" + file)\n",
    "    print(\"Archivo:\", file, \"Ancho:\", dataset.width, \"Largo:\", dataset.height)\n",
    "    \n",
    "    # Recuperación de los valores de la banda 1 en un arreglo\n",
    "    band = dataset.read(1)\n",
    "    \n",
    "    # Recorrido de las filas y columnas de la banda\n",
    "    i = 0\n",
    "    t = 0\n",
    "    for row in band:\n",
    "        j = 0\n",
    "        for value in row:\n",
    "            if value != NO_DATA_VALUE:\n",
    "                coordinates = dataset.transform * (j, i)\n",
    "                x = coordinates[0]\n",
    "                y = coordinates[1]\n",
    "                point = Point(coordinates)\n",
    "                # print(t, i, j, x, y, point, value)\n",
    "                if (f == 0):\n",
    "                    centros_gdf.loc[t] = [point] + [x] + [y] + [value]\n",
    "                else:\n",
    "                    centros_gdf.loc[[t], ['c_' + anio + '_' + mes]] = value\n",
    "                t += 1\n",
    "            j += 1\n",
    "            \n",
    "        i += 1\n",
    "    f += 1\n",
    "\n",
    "# Columna de la suma\n",
    "centros_gdf['suma'] = centros_gdf.iloc[:,3:].sum(axis=1)    \n",
    "    \n",
    "# Columna del promedio\n",
    "centros_gdf['promedio'] = centros_gdf.iloc[:,3:].mean(axis=1)"
   ]
  },
  {
   "cell_type": "markdown",
   "metadata": {},
   "source": [
    "## Salida"
   ]
  },
  {
   "cell_type": "code",
   "execution_count": null,
   "metadata": {},
   "outputs": [],
   "source": [
    "centros_gdf"
   ]
  },
  {
   "cell_type": "code",
   "execution_count": null,
   "metadata": {},
   "outputs": [],
   "source": [
    "centros_gdf.to_file(OUTPUT_DATA_DIR + \"/\" + OUTPUT_SHAPEFILE)\n",
    "centros_gdf.to_file(OUTPUT_DATA_DIR + \"/\" + OUTPUT_CSV, driver=\"CSV\")"
   ]
  },
  {
   "cell_type": "code",
   "execution_count": null,
   "metadata": {},
   "outputs": [],
   "source": []
  }
 ],
 "metadata": {
  "kernelspec": {
   "display_name": "Python 3",
   "language": "python",
   "name": "python3"
  },
  "language_info": {
   "codemirror_mode": {
    "name": "ipython",
    "version": 3
   },
   "file_extension": ".py",
   "mimetype": "text/x-python",
   "name": "python",
   "nbconvert_exporter": "python",
   "pygments_lexer": "ipython3",
   "version": "3.7.6"
  }
 },
 "nbformat": 4,
 "nbformat_minor": 2
}
