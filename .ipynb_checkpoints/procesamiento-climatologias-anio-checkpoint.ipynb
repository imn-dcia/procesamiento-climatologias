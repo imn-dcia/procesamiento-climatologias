{
 "cells": [
  {
   "cell_type": "markdown",
   "metadata": {},
   "source": [
    "# Procesamiento de climatologías - agrupación por año"
   ]
  },
  {
   "cell_type": "markdown",
   "metadata": {},
   "source": [
    "Este _notebook_ contiene programas en Python para el procesamiento de climatologías, agrupándolas por año. Una climatología se define como un conjunto de medidas estadísticas que resumen series temporales de variables climáticas como precipitación, temperatura, radiación solar y velocidad del viento, entre otras."
   ]
  },
  {
   "cell_type": "markdown",
   "metadata": {},
   "source": [
    "**Bibliotecas**"
   ]
  },
  {
   "cell_type": "code",
   "execution_count": 4,
   "metadata": {},
   "outputs": [],
   "source": [
    "import os\n",
    "\n",
    "import rasterio\n",
    "\n",
    "from shapely.geometry import Point\n",
    "\n",
    "import pandas as pd\n",
    "import geopandas as gpd"
   ]
  },
  {
   "cell_type": "markdown",
   "metadata": {},
   "source": [
    "## Entrada"
   ]
  },
  {
   "cell_type": "code",
   "execution_count": 8,
   "metadata": {},
   "outputs": [],
   "source": [
    "# Directorio de datos de entrada\n",
    "INPUT_DATA_DIR = \"/home/mfvargas/procesamiento-climatologias-datos/chelsa-recortados-cr\"\n",
    "\n",
    "# Directorio de datos de salida\n",
    "OUTPUT_DATA_DIR = \"/home/mfvargas/procesamiento-climatologias-datos/chelsa-recortados-cr-agrupados-anio\"\n",
    "\n",
    "# Año inicial\n",
    "START_YEAR = 1981\n",
    "\n",
    "# Año final\n",
    "END_YEAR = 2010\n",
    "\n",
    "# Valor de NO DATA\n",
    "NO_DATA_VALUE = 65535"
   ]
  },
  {
   "cell_type": "markdown",
   "metadata": {},
   "source": [
    "## Procesamiento"
   ]
  },
  {
   "cell_type": "code",
   "execution_count": 18,
   "metadata": {},
   "outputs": [
    {
     "name": "stdout",
     "output_type": "stream",
     "text": [
      "year: 1982\n",
      "Año: 1982 Mes: 01\n",
      "Archivo: CHELSA_prec_1982_01_V1.2.1_recortado.tiff Ancho: 411 Largo: 382\n",
      "Año: 1982 Mes: 02\n",
      "Archivo: CHELSA_prec_1982_02_V1.2.1_recortado.tiff Ancho: 411 Largo: 382\n",
      "Año: 1982 Mes: 03\n",
      "Archivo: CHELSA_prec_1982_03_V1.2.1_recortado.tiff Ancho: 411 Largo: 382\n",
      "Año: 1982 Mes: 04\n",
      "Archivo: CHELSA_prec_1982_04_V1.2.1_recortado.tiff Ancho: 411 Largo: 382\n",
      "Año: 1982 Mes: 05\n",
      "Archivo: CHELSA_prec_1982_05_V1.2.1_recortado.tiff Ancho: 411 Largo: 382\n",
      "Año: 1982 Mes: 06\n",
      "Archivo: CHELSA_prec_1982_06_V1.2.1_recortado.tiff Ancho: 411 Largo: 382\n",
      "Año: 1982 Mes: 07\n",
      "Archivo: CHELSA_prec_1982_07_V1.2.1_recortado.tiff Ancho: 411 Largo: 382\n",
      "Año: 1982 Mes: 08\n",
      "Archivo: CHELSA_prec_1982_08_V1.2.1_recortado.tiff Ancho: 411 Largo: 382\n",
      "Año: 1982 Mes: 09\n",
      "Archivo: CHELSA_prec_1982_09_V1.2.1_recortado.tiff Ancho: 411 Largo: 382\n",
      "Año: 1982 Mes: 10\n",
      "Archivo: CHELSA_prec_1982_10_V1.2.1_recortado.tiff Ancho: 411 Largo: 382\n",
      "Año: 1982 Mes: 11\n",
      "Archivo: CHELSA_prec_1982_11_V1.2.1_recortado.tiff Ancho: 411 Largo: 382\n",
      "Año: 1982 Mes: 12\n",
      "Archivo: CHELSA_prec_1982_12_V1.2.1_recortado.tiff Ancho: 411 Largo: 382\n"
     ]
    }
   ],
   "source": [
    "for year in range(START_YEAR, END_YEAR + 1):\n",
    "    print(\"year:\", year)\n",
    "\n",
    "    # DataFrame\n",
    "    centros_gdf = gpd.GeoDataFrame(columns=['geometry', 'x', 'y'], crs={\"init\": \"epsg:4326\"})\n",
    "\n",
    "    # Contador de archivos\n",
    "    f = 0\n",
    "\n",
    "    # Recorrido de los archivos del directorio de entrada\n",
    "    files = os.listdir(INPUT_DATA_DIR)\n",
    "    files.sort()\n",
    "    for file in files:\n",
    "        anio = file[12:16]\n",
    "        mes = file[17:19]\n",
    "\n",
    "        if anio != str(year):\n",
    "            continue\n",
    "            \n",
    "        #if mes not in ('01', '02'):\n",
    "        #    continue            \n",
    "\n",
    "        print(\"Año:\", anio, \"Mes:\", mes)\n",
    "        centros_gdf['c_' + anio + '_' + mes] = 65535\n",
    "\n",
    "        dataset = rasterio.open(INPUT_DATA_DIR + \"/\" + file)\n",
    "        print(\"Archivo:\", file, \"Ancho:\", dataset.width, \"Largo:\", dataset.height)\n",
    "\n",
    "        # Recuperación de los valores de la banda 1 en un arreglo\n",
    "        band = dataset.read(1)\n",
    "\n",
    "        # Recorrido de las filas y columnas de la banda\n",
    "        i = 0\n",
    "        t = 0\n",
    "        for row in band:\n",
    "            # print(\"i:\", i)\n",
    "            j = 0\n",
    "            for value in row:\n",
    "                if value != NO_DATA_VALUE:\n",
    "                    # coordinates = transform.xy(dataset.transform, j, i, offset='center')                    \n",
    "                    # coordinates = dataset.transform * (j, i)\n",
    "                    coordinates = dataset.xy(i, j)\n",
    "                    # print(coordinates)\n",
    "                    x = coordinates[0]\n",
    "                    y = coordinates[1]\n",
    "                    point = Point(coordinates)\n",
    "                    # print(t, i, j, x, y, point, value)\n",
    "                    if (f == 0):\n",
    "                        centros_gdf.loc[t] = [point] + [x] + [y] + [value]\n",
    "                    else:\n",
    "                        centros_gdf.loc[[t], ['c_' + anio + '_' + mes]] = value\n",
    "                    t += 1\n",
    "                j += 1\n",
    "\n",
    "            i += 1\n",
    "        f += 1\n",
    "\n",
    "    # Columna de la suma\n",
    "    centros_gdf['suma'] = centros_gdf.iloc[:,3:].sum(axis=1)    \n",
    "\n",
    "    # Columna del promedio\n",
    "    centros_gdf['promedio'] = centros_gdf.iloc[:,3:(len(centros_gdf.columns)-1)].mean(axis=1)\n",
    "    \n",
    "    # Archivo CSV de salida\n",
    "    centros_gdf.to_file(OUTPUT_DATA_DIR + \"/\" + \"CHELSA_\"+str(year)+\".csv\", driver=\"CSV\")\n",
    "    \n",
    "    # Archivo SHP de salida\n",
    "    centros_gdf.to_file(OUTPUT_DATA_DIR + \"/\" + \"CHELSA_\"+str(year)+\".shp\")"
   ]
  },
  {
   "cell_type": "code",
   "execution_count": null,
   "metadata": {},
   "outputs": [],
   "source": []
  }
 ],
 "metadata": {
  "kernelspec": {
   "display_name": "Python 3",
   "language": "python",
   "name": "python3"
  },
  "language_info": {
   "codemirror_mode": {
    "name": "ipython",
    "version": 3
   },
   "file_extension": ".py",
   "mimetype": "text/x-python",
   "name": "python",
   "nbconvert_exporter": "python",
   "pygments_lexer": "ipython3",
   "version": "3.7.6"
  }
 },
 "nbformat": 4,
 "nbformat_minor": 2
}
